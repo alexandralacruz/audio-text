{
 "cells": [
  {
   "cell_type": "code",
   "execution_count": null,
   "metadata": {},
   "outputs": [],
   "source": [
    "from app.agent import CorrectorAgent\n",
    "from app.settings import WHISPER_MODEL, LLM_MODEL, LLM_BASE_URL\n",
    "\n",
    "\n",
    "# Initialize the agent\n",
    "agent = CorrectorAgent(whisper_model=WHISPER_MODEL, llm_model=LLM_MODEL, base_url=LLM_BASE_URL)\n",
    "\n",
    "# Option 1: Correct text directly\n",
    "text_to_fix = \"I has an apple and she have a banana.\"\n",
    "result = agent.correct_text(text_to_fix)\n",
    "print(\"Original:\", result[\"original\"])\n",
    "print(\"Corrected:\", result[\"corrected\"])\n",
    "\n",
    "# Option 2: Process audio file (transcribe + correct)\n",
    "audio_path = \"../data/sample.wav\"\n",
    "result = agent.process_and_correct_audio(audio_path)\n",
    "print(\"Original transcription:\", result[\"original\"])\n",
    "print(\"Corrected version:\", result[\"corrected\"])\n"
   ]
  }
 ],
 "metadata": {
  "kernelspec": {
   "display_name": ".venv",
   "language": "python",
   "name": "python3"
  },
  "language_info": {
   "name": "python",
   "version": "3.12.4"
  }
 },
 "nbformat": 4,
 "nbformat_minor": 2
}
