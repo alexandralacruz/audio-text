{
 "cells": [
  {
   "cell_type": "code",
   "execution_count": 17,
   "metadata": {},
   "outputs": [],
   "source": [
    "import sys, os\n",
    "PROJECT_ROOT = os.path.abspath(os.path.join(os.getcwd(), \"..\"))\n",
    "if PROJECT_ROOT not in sys.path:\n",
    "    sys.path.insert(0, PROJECT_ROOT)"
   ]
  },
  {
   "cell_type": "code",
   "execution_count": 18,
   "metadata": {},
   "outputs": [
    {
     "name": "stdout",
     "output_type": "stream",
     "text": [
      "Respuesta del modelo:\n",
      "\n",
      "\n",
      "The error in the sentence is the use of the wrong verb form. The correct verb form should be \"I had an apple.\"\n",
      "\n",
      "Explanation:\n",
      "\n",
      "* \"Has\" is a third-person singular present tense form of the verb \"have,\" which means to possess or hold something. For example, \"She has a book.\"\n",
      "* \"Had\" is the past tense form of the verb \"have,\" which is used to describe an action that occurred in the past. For example, \"I had breakfast this morning.\"\n",
      "\n",
      "In the sentence \"I has a apple,\" the verb form \"has\" should be changed to \"had\" to make it grammatically correct. Therefore, the corrected sentence would be: \"I had an apple.\"\n"
     ]
    }
   ],
   "source": [
    "import requests\n",
    "import json\n",
    "from app.settings import LLM_BASE_URL, LLM_MODEL\n",
    "\n",
    "\n",
    "\n",
    "# prompt de prueba\n",
    "prompt = \"correct the error in this sentence: and tell me why the error as a language teacher => 'I has a apple'\"\n",
    "\n",
    "# URL del servidor de Ollama (por defecto localhost:11434)\n",
    "url = LLM_BASE_URL + \"/api/generate\"\n",
    "\n",
    "# modelo a usar (asegúrate de haberlo descargado con 'ollama pull llama3')\n",
    "data = {\"model\": LLM_MODEL, \"prompt\": prompt}\n",
    "\n",
    "# petición HTTP al API de Ollama\n",
    "response = requests.post(url, json=data, stream=True)\n",
    "\n",
    "# juntar la respuesta del modelo\n",
    "output = \"\"\n",
    "for line in response.iter_lines():\n",
    "    if line:\n",
    "        data = json.loads(line)\n",
    "        output += data.get(\"response\", \"\")\n",
    "\n",
    "print(\"Respuesta del modelo:\\n\")\n",
    "print(output)\n"
   ]
  },
  {
   "cell_type": "code",
   "execution_count": 19,
   "metadata": {},
   "outputs": [
    {
     "name": "stdout",
     "output_type": "stream",
     "text": [
      "\n",
      " Respuesta del modelo:\n",
      "\n",
      "\n",
      "The sentence \"I has a apple\" is incorrect because it uses the wrong verb tense. The correct sentence would be:\n",
      "\n",
      "\"I have an apple.\"\n",
      "\n",
      "Here's a breakdown of the corrected sentence:\n",
      "\n",
      "* \"I\" is the subject of the sentence, which is always written in lowercase.\n",
      "* \"has\" is the third person singular present tense of the verb \"have,\" which means to possess or own something.\n",
      "* \"apple\" is the direct object of the verb \"has,\" which means the thing that is being possessed or owned.\n",
      "\n",
      "So, the corrected sentence would be: \"I have an apple.\"\n"
     ]
    }
   ],
   "source": [
    "from models.local_llm import LocalLLM\n",
    "\n",
    "# Crea una instancia del modelo local\n",
    "llm = LocalLLM(model=LLM_MODEL, base_url=LLM_BASE_URL)\n",
    "\n",
    "# Define un prompt de prueba\n",
    "prompt = \"Correct the grammar: I has a apple\"\n",
    "\n",
    "# Llama al método generate\n",
    "result = await llm.generate(prompt)\n",
    "\n",
    "# Muestra el resultado\n",
    "print(\"\\n Respuesta del modelo:\\n\")\n",
    "print(result)\n"
   ]
  }
 ],
 "metadata": {
  "kernelspec": {
   "display_name": ".venv",
   "language": "python",
   "name": "python3"
  },
  "language_info": {
   "codemirror_mode": {
    "name": "ipython",
    "version": 3
   },
   "file_extension": ".py",
   "mimetype": "text/x-python",
   "name": "python",
   "nbconvert_exporter": "python",
   "pygments_lexer": "ipython3",
   "version": "3.12.4"
  }
 },
 "nbformat": 4,
 "nbformat_minor": 2
}
