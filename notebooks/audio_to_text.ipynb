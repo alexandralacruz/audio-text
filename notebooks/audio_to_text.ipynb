{
 "cells": [
  {
   "cell_type": "code",
   "execution_count": null,
   "metadata": {},
   "outputs": [],
   "source": [
    "from app.transcription import transcribe_audio_from_path\n",
    "# Prueba:\n",
    "text = transcribe_audio_from_path(\"../data/sample.wav\")\n",
    "print(\"Texto:\", text)"
   ]
  }
 ],
 "metadata": {
  "kernelspec": {
   "display_name": ".venv",
   "language": "python",
   "name": "python3"
  },
  "language_info": {
   "name": "python",
   "version": "3.12.4"
  }
 },
 "nbformat": 4,
 "nbformat_minor": 2
}
